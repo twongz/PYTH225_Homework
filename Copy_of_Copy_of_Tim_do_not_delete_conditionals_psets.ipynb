{
  "nbformat": 4,
  "nbformat_minor": 0,
  "metadata": {
    "colab": {
      "name": "Copy of Copy of Tim do not delete conditionals_psets.ipynb",
      "provenance": [],
      "collapsed_sections": [],
      "include_colab_link": true
    },
    "kernelspec": {
      "name": "python3",
      "display_name": "Python 3"
    }
  },
  "cells": [
    {
      "cell_type": "markdown",
      "metadata": {
        "id": "view-in-github",
        "colab_type": "text"
      },
      "source": [
        "<a href=\"https://colab.research.google.com/github/twongz/PYTH225_Homework/blob/master/Copy_of_Copy_of_Tim_do_not_delete_conditionals_psets.ipynb\" target=\"_parent\"><img src=\"https://colab.research.google.com/assets/colab-badge.svg\" alt=\"Open In Colab\"/></a>"
      ]
    },
    {
      "cell_type": "markdown",
      "metadata": {
        "id": "FiL9pv11VtnR",
        "colab_type": "text"
      },
      "source": [
        "#  CONDITIONALS\n",
        "\n",
        "\n"
      ]
    },
    {
      "cell_type": "markdown",
      "metadata": {
        "id": "gijpYMCLV00L",
        "colab_type": "text"
      },
      "source": [
        "## WEATHER"
      ]
    },
    {
      "cell_type": "markdown",
      "metadata": {
        "id": "KL7ytXn4V2WB",
        "colab_type": "text"
      },
      "source": [
        "### P1.PY"
      ]
    },
    {
      "cell_type": "code",
      "metadata": {
        "id": "e32ChHBAVtnU",
        "colab_type": "code",
        "outputId": "6891a949-f04f-4ed9-86bd-8c0979e65214",
        "colab": {
          "base_uri": "https://localhost:8080/",
          "height": 85
        }
      },
      "source": [
        "\"\"\"\n",
        "Weather I - Do you need boots?\n",
        "\"\"\"\n",
        "\n",
        "# Use the values of the vars defined below to ouput the correct contextual answer to the questions below. (Note: The variables themselves ARE the questions.)\n",
        "\n",
        "# Example:\n",
        "## am_i_hungry = False\n",
        "## am_i_tired = True\n",
        "## do_i_need_to_stay_awake = False\n",
        "\n",
        "## should_i_drink_coffee_now = am_i_tired and do_i_need_to_stay_awake\n",
        "\n",
        "## ^^ This ^^ evaluates to False. If you're tired and don't need to stay awake, you don't need to drink coffee!\n",
        "\n",
        "\n",
        "is_it_raining = True\n",
        "is_it_snowing = False\n",
        "\n",
        "\n",
        "\n",
        "\n",
        "do_i_need_snow_boots = (is_it_raining == True) and (not is_it_snowing == False)\n",
        "can_i_skip_snow_boots = (is_it_raining == True) or (is_it_snowing == False)\n",
        "do_i_need_rain_boots = (is_it_raining == True) or (is_it_snowing == False)\n",
        "can_i_skip_rain_boots = (not is_it_raining == True)\n",
        "\n",
        "print(do_i_need_snow_boots)\n",
        "print(can_i_skip_snow_boots )\n",
        "print(do_i_need_rain_boots )\n",
        "print(can_i_skip_rain_boots)"
      ],
      "execution_count": 0,
      "outputs": [
        {
          "output_type": "stream",
          "text": [
            "False\n",
            "True\n",
            "True\n",
            "False\n"
          ],
          "name": "stdout"
        }
      ]
    },
    {
      "cell_type": "markdown",
      "metadata": {
        "id": "t9cxGL-8VtnX",
        "colab_type": "text"
      },
      "source": [
        "\n",
        "\n",
        "### P2.PY\n",
        "\n",
        "\n"
      ]
    },
    {
      "cell_type": "code",
      "metadata": {
        "id": "y80DTzliVtnY",
        "colab_type": "code",
        "outputId": "b288e453-9a5d-4cdc-fb6e-5e6a308ba280",
        "colab": {
          "base_uri": "https://localhost:8080/",
          "height": 85
        }
      },
      "source": [
        "\"\"\"\n",
        "Weather II - Precipitation\n",
        "\"\"\"\n",
        "\n",
        "# Repeat the same process as p1, using this new set of variables.\n",
        "\n",
        "sunny = True\n",
        "raining = True\n",
        "snowing = False\n",
        "\n",
        "is_it_sunny = (sunny == True) and (not raining == True) and (not snowing == False)\n",
        "is_there_precipitation = (sunny) and (raining) and (not snowing)\n",
        "is_it_sleeting = (not sunny) and (raining) and (not snowing)\n",
        "is_there_rainbow = (sunny) and (raining) and (snowing)\n",
        "\n",
        "print(is_it_sunny)\n",
        "print(is_there_precipitation)\n",
        "print(is_it_sleeting)\n",
        "print(is_there_rainbow)"
      ],
      "execution_count": 0,
      "outputs": [
        {
          "output_type": "stream",
          "text": [
            "False\n",
            "True\n",
            "False\n",
            "False\n"
          ],
          "name": "stdout"
        }
      ]
    },
    {
      "cell_type": "markdown",
      "metadata": {
        "id": "777sx1WCVtno",
        "colab_type": "text"
      },
      "source": [
        "\n",
        "\n",
        "### P3.PY\n",
        "\n",
        "\n"
      ]
    },
    {
      "cell_type": "code",
      "metadata": {
        "id": "9dNGqX2wVtnp",
        "colab_type": "code",
        "outputId": "7a865efe-e071-445d-a8ad-30842a214926",
        "colab": {
          "base_uri": "https://localhost:8080/",
          "height": 85
        }
      },
      "source": [
        "\"\"\"\n",
        "Weather III - Describe Conditions\n",
        "\"\"\"\n",
        "\n",
        "# Repeat the same process as p1, using this new set of variables.\n",
        "\n",
        "\n",
        "warm = True\n",
        "humid = True\n",
        "cold = False\n",
        "icy = False\n",
        "foggy = False\n",
        "windy = False\n",
        "overcast = True\n",
        "\n",
        "\n",
        "is_it_summer_weather = (warm) and (humid) or (is_it_overcast)\n",
        "is_rain_coming = (humid) and (overcast)\n",
        "is_it_muggy = (warm) and (humid)\n",
        "do_i_need_coat = (not warm) and (not humid) and (not cold) and (not icy) and (not windy)\n",
        "\n",
        "print(is_it_summer_weather)\n",
        "print(is_rain_coming)\n",
        "print(is_it_muggy)\n",
        "print(do_i_need_coat)"
      ],
      "execution_count": 0,
      "outputs": [
        {
          "output_type": "stream",
          "text": [
            "True\n",
            "True\n",
            "True\n",
            "False\n"
          ],
          "name": "stdout"
        }
      ]
    },
    {
      "cell_type": "markdown",
      "metadata": {
        "id": "c70y61m1Vtn3",
        "colab_type": "text"
      },
      "source": [
        "## LOGIC\n",
        "\n",
        "\n"
      ]
    },
    {
      "cell_type": "markdown",
      "metadata": {
        "id": "6IGtJU8oV5a8",
        "colab_type": "text"
      },
      "source": [
        "### P1.PY"
      ]
    },
    {
      "cell_type": "code",
      "metadata": {
        "id": "8dx3WRHBVtn4",
        "colab_type": "code",
        "outputId": "207d0bd0-8d42-4cb6-a1e2-12737be34a1f",
        "colab": {
          "base_uri": "https://localhost:8080/",
          "height": 51
        }
      },
      "source": [
        "\"\"\"\n",
        "Calculate Grade\n",
        "\"\"\"\n",
        "\n",
        "grade = 65 # expect this to be a number\n",
        "\n",
        "if grade >= 90 and grade <= 100:\n",
        "  print('A')\n",
        "if grade >= 80 and grade <= 90:\n",
        "  print('B')\n",
        "if grade >= 70 and grade <= 80:\n",
        "  print('C')\n",
        "if grade >= 65 and grade <= 70:\n",
        "  print('D')\n",
        "if grade < 65:\n",
        "  print(\"F\")\n",
        "\n",
        "\n",
        "if grade >= 90:\n",
        "  print('A')\n",
        "elif grade >= 80:\n",
        "  print('B')\n",
        "elif grade >= 70:\n",
        "  print('C')\n",
        "elif grade >= 65:\n",
        "  print('D')\n",
        "else:\n",
        "  print('F')\n",
        "\n",
        "\n",
        "if grade < 0 or grade > 100:\n",
        "  print(\"grade is not valid, must be < 0 or grade > 100\")\n",
        "\n",
        "if type(grade) != int and type(grade) != float:\n",
        "  print(\"grade is not valid\")\n",
        "\n",
        "# write a program that will print the \"letter\"\n",
        "# equivalent of the grade, for example:\n",
        "# when grade = 90 # -> expect A\n",
        "# when grade = 80 # -> expect B\n",
        "# when grade = 70 # -> expect C\n",
        "# when grade = 60 # -> expect D\n",
        "# when grade = 54 # -> expect F\n",
        "# when grade = -10 # -> expect Error\n",
        "# when grade = 10000 # -> expect Error\n",
        "# when grade = \"lol skool sucks\" # -> expect Error\n"
      ],
      "execution_count": 0,
      "outputs": [
        {
          "output_type": "stream",
          "text": [
            "D\n",
            "D\n"
          ],
          "name": "stdout"
        }
      ]
    },
    {
      "cell_type": "markdown",
      "metadata": {
        "id": "HLfJLQFKVtoK",
        "colab_type": "text"
      },
      "source": [
        "\n",
        "\n",
        "### P2.PY\n",
        "\n",
        "\n"
      ]
    },
    {
      "cell_type": "code",
      "metadata": {
        "id": "g3fT3CxqVtoO",
        "colab_type": "code",
        "outputId": "0270883b-f616-4bcc-c0d5-a399b053eef6",
        "colab": {
          "base_uri": "https://localhost:8080/",
          "height": 51
        }
      },
      "source": [
        "\"\"\"\n",
        "Sign of Product\n",
        "\"\"\"\n",
        "\n",
        "# Given three numbers, a, b, c, without multiplying, determine the sign of their product.\n",
        "\n",
        "# EXAMPLE: a = -5, b = 6, c = -4, print 1\n",
        "\n",
        "# EXAMPLE: a = 5, b = 6, c = -4, print -1\n",
        "\n",
        "a = -1\n",
        "b = -1\n",
        "c = -1\n",
        "\n",
        "\n",
        "is_a_negative = a < 0\n",
        "is_b_negative = b < 0\n",
        "is_c_negative = c < 0\n",
        "\n",
        "summed = int(is_a_negative) + int(is_b_negative) + int(is_c_negative)\n",
        "if a == 0 or b == 0 or c == 0:\n",
        "  print(\"zero\")\n",
        "elif summed == 1 or summed ==3:\n",
        "  print(\"negative\")\n",
        "else:\n",
        "  print(\"positive\")\n",
        "\n",
        "print(a*b*c)"
      ],
      "execution_count": 0,
      "outputs": [
        {
          "output_type": "stream",
          "text": [
            "negative\n",
            "-1\n"
          ],
          "name": "stdout"
        }
      ]
    },
    {
      "cell_type": "markdown",
      "metadata": {
        "id": "eUuhYKriVtoS",
        "colab_type": "text"
      },
      "source": [
        "\n",
        "\n",
        "### P3.PY\n",
        "\n",
        "\n"
      ]
    },
    {
      "cell_type": "code",
      "metadata": {
        "id": "gtAMAAaYVtoT",
        "colab_type": "code",
        "outputId": "774385d2-bf4a-426c-fa74-7353635e995c",
        "colab": {
          "base_uri": "https://localhost:8080/",
          "height": 51
        }
      },
      "source": [
        "\"\"\"\n",
        "Any Uppercase\n",
        "\"\"\"\n",
        "\n",
        "# Given a string str, determine if there are any uppercase values in it. Use only conditional statements and string methods (you may have to look some up!)\n",
        "\n",
        "# EXAMPLE: str = \"teSt\", print True\n",
        "\n",
        "sum_upper_case_words = \"Tim iS CoOl\"\n",
        "all_upper_case_words = 'TIM'\n",
        "\n",
        "if sum_upper_case_words.isupper():\n",
        "  print(\"All uppercase!\")\n",
        "else:\n",
        "  print(\"Not all are uppercase\")\n",
        "\n",
        "if all_upper_case_words.isupper():\n",
        "  print(\"All uppercase!\")\n",
        "else:\n",
        "  print(\"Not all are uppercase\")"
      ],
      "execution_count": 0,
      "outputs": [
        {
          "output_type": "stream",
          "text": [
            "Not all are uppercase\n",
            "All uppercase!\n"
          ],
          "name": "stdout"
        }
      ]
    },
    {
      "cell_type": "markdown",
      "metadata": {
        "id": "wG8CE6QTVtoW",
        "colab_type": "text"
      },
      "source": [
        "\n",
        "\n",
        "### P4.PY\n",
        "\n",
        "\n"
      ]
    },
    {
      "cell_type": "code",
      "metadata": {
        "id": "xZ5Mt4jSVtoX",
        "colab_type": "code",
        "outputId": "b8d2909a-f716-4bb7-e061-2829ecfc3681",
        "colab": {
          "base_uri": "https://localhost:8080/",
          "height": 34
        }
      },
      "source": [
        "\"\"\"\n",
        "Empty Strings\n",
        "\"\"\"\n",
        "\n",
        "# Given any empty string, of the form:\n",
        "\n",
        "# ''\n",
        "# ' '\n",
        "# '  '\n",
        "# any other num of spaces...\n",
        "\n",
        "# determine if the str is empty or not (print True or False). Hint: You'll need to look up how to remove trailing spaces from a string.\n",
        "\n",
        "empty_string = ''\n",
        "\n",
        "if len(empty_string) == 0:\n",
        "  print(True)\n",
        "else:\n",
        "  print(False)\n"
      ],
      "execution_count": 0,
      "outputs": [
        {
          "output_type": "stream",
          "text": [
            "True\n"
          ],
          "name": "stdout"
        }
      ]
    },
    {
      "cell_type": "markdown",
      "metadata": {
        "id": "WlgQdALoVtof",
        "colab_type": "text"
      },
      "source": [
        "\n",
        "\n",
        "### P5.PY\n",
        "\n",
        "\n"
      ]
    },
    {
      "cell_type": "code",
      "metadata": {
        "id": "7_k9rebsVtog",
        "colab_type": "code",
        "colab": {}
      },
      "source": [
        "\"\"\"\n",
        "truthTableEvaluator\n",
        "\"\"\"\n",
        "\n",
        "# Given the following inputs:\n",
        "\n",
        "\n",
        "# P = # True or False\n",
        "# Q = # True or False\n",
        "# op = # '^' (logical AND, conjunction)\n",
        "#      # OR, 'v' (logical OR, disjunction)\n",
        "#      # OR, '->' (logical conditional, implication)\n",
        "#      # OR, '<->' (biconditional)\n",
        "# determine the correct outcome.\n",
        "\n",
        "# https://medium.com/i-math/intro-to-truth-tables-boolean-algebra-73b331dd9b94\n",
        "\n",
        "\n",
        "print('VALUES') \n",
        "print(P)\n",
        "print(Q)\n",
        "print()\n",
        "\n",
        "\n",
        "print('NOT')\n",
        "print(not P)\n",
        "print(not Q)\n",
        "print()\n",
        "\n",
        "\n",
        "print('AND')\n",
        "print('P and P',P and P)\n",
        "print('P and Q',P and Q) \n",
        "print('Q and P', P and Q)\n",
        "print('Q and Q', Q and Q)\n",
        "\n",
        "\n",
        "print('OR')\n",
        "print(P or P)\n",
        "print(P or Q)\n",
        "print(Q or P)\n",
        "print(Q or Q)\n",
        "print()\n",
        "\n",
        "\n",
        "print('IF THEN')\n",
        "if P:\n",
        "\tprint(P)\n",
        "if P:\n",
        "\tprint(Q)\n",
        "if Q:\n",
        "\tprint(P)\n",
        "if Q:\n",
        "\tprint(Q)\n",
        "print()\n",
        "\n",
        "\n",
        "print('IF AND ONLY IF')\n",
        "#P <-> P\n",
        "print('P <-> P',((P == P) and (P == P)))\n",
        "#P <-> Q:\n",
        "print('P <-> Q',((P == Q) and (Q == P)))\n",
        "#Q <-> P:\n",
        "print('Q <-> P',((Q == P) and (P == Q)))\n",
        "#Q <-> Q:\n",
        "print('Q <-> Q',((Q == Q) and (Q == Q)))\n"
      ],
      "execution_count": 0,
      "outputs": []
    },
    {
      "cell_type": "markdown",
      "metadata": {
        "id": "zayFQdU7Vto2",
        "colab_type": "text"
      },
      "source": [
        "## RANDOM NUMBERS\n",
        "\n",
        "\n",
        "\n",
        "\n"
      ]
    },
    {
      "cell_type": "markdown",
      "metadata": {
        "id": "gtAK4fQAV9BC",
        "colab_type": "text"
      },
      "source": [
        "### P1.PY"
      ]
    },
    {
      "cell_type": "code",
      "metadata": {
        "id": "_dlFvP4QVto3",
        "colab_type": "code",
        "outputId": "1687c82f-a55b-4269-f7c2-aa51274d5ffa",
        "colab": {
          "base_uri": "https://localhost:8080/",
          "height": 51
        }
      },
      "source": [
        "\"\"\"\n",
        "Generate Traffic Light\n",
        "\"\"\"\n",
        "\n",
        "# import python randomint package\n",
        "\n",
        "\n",
        "# generates a random number from 1 to 3\n",
        "\n",
        "\n",
        "# if 1, print 'red'\n",
        "# if 2, print 'green',\n",
        "# if 3, print 'yellow'\n",
        "\n",
        "\n",
        "import random\n",
        "color = random.randint(1, 3)\n",
        "print(color)\n",
        "\n",
        "if color == 1:\n",
        "  print('red')\n",
        "\n",
        "elif color == 2:\n",
        "  print('green')\n",
        "\n",
        "elif color == 3:\n",
        "  print('yellow')\n",
        "\n",
        "\n"
      ],
      "execution_count": 0,
      "outputs": [
        {
          "output_type": "stream",
          "text": [
            "1\n",
            "red\n"
          ],
          "name": "stdout"
        }
      ]
    },
    {
      "cell_type": "markdown",
      "metadata": {
        "id": "nO0LSd8SVto5",
        "colab_type": "text"
      },
      "source": [
        "\n",
        "\n",
        "### P2.PY\n",
        "\n",
        "\n"
      ]
    },
    {
      "cell_type": "code",
      "metadata": {
        "id": "Dp5jFc2fVtpF",
        "colab_type": "code",
        "outputId": "50807306-f0da-44c3-b167-13ec1e49babf",
        "colab": {
          "base_uri": "https://localhost:8080/",
          "height": 34
        }
      },
      "source": [
        "\"\"\"\n",
        "Generate Phone Number w/Area Code\n",
        "\"\"\"\n",
        "\n",
        "# Generate a random phone number using these SPECS:\n",
        "### Should be a string in this format: 1-718-786-2825\n",
        "### Must randomly choose one of these area codes: 646, 718, 212\n",
        "\n",
        "from random import choice\n",
        "from random import randint\n",
        "\n",
        "three_digits = randint(100, 999)\n",
        "four_digits = randint(1000, 9999)\n",
        "area_code = ['646', '718', '212']\n",
        "\n",
        "print(f'random phone number: 1-{choice(area_code)}-{three_digits}-{four_digits}')\n"
      ],
      "execution_count": 0,
      "outputs": [
        {
          "output_type": "stream",
          "text": [
            "random phone number: 1-718-773-3323\n"
          ],
          "name": "stdout"
        }
      ]
    },
    {
      "cell_type": "markdown",
      "metadata": {
        "id": "gRweE3nDVtpK",
        "colab_type": "text"
      },
      "source": [
        "## RPS\n",
        "\n",
        "\n"
      ]
    },
    {
      "cell_type": "markdown",
      "metadata": {
        "id": "IFUwrDumV_Vn",
        "colab_type": "text"
      },
      "source": [
        "### P1.PY"
      ]
    },
    {
      "cell_type": "code",
      "metadata": {
        "id": "sYTmAYzDVtpL",
        "colab_type": "code",
        "outputId": "4daf2d40-a6f9-466e-d3f9-d299f88e8f5e",
        "colab": {
          "base_uri": "https://localhost:8080/",
          "height": 51
        }
      },
      "source": [
        "\"\"\"\n",
        "Play RPS\n",
        "\"\"\"\n",
        "\n",
        "p1 = 'r'  # or 'p' or 's'\n",
        "p2 = 's'  # or 'p' or 's'\n",
        "\n",
        "# Given a p1 and p2\n",
        "# print 1 if p1 has won\n",
        "# print 2 if p2 has won\n",
        "# print 0 if tie\n",
        "# print -1 if invalid input\n",
        "# expects both p1 and p2 inputs to be either\n",
        "# \"r\", \"p\", or \"s\"\n",
        "\n",
        "if (p1 == p2):\n",
        "  print(0)\n",
        "elif (p1 == 'r' and p2 == 's') or (p1 == 'p' and p2 == 'r') or (p1 == 's' and p2 == 'p'):\n",
        "  print(1)\n",
        "else:\n",
        "  print(2)\n",
        "\n",
        "print(f'p1 {p1} and p2 {p2}')\n"
      ],
      "execution_count": 0,
      "outputs": [
        {
          "output_type": "stream",
          "text": [
            "1\n",
            "p1 r and p2 s\n"
          ],
          "name": "stdout"
        }
      ]
    },
    {
      "cell_type": "markdown",
      "metadata": {
        "id": "fp77AykMVtpN",
        "colab_type": "text"
      },
      "source": [
        "\n",
        "\n",
        "### P2.PY\n",
        "\n",
        "\n"
      ]
    },
    {
      "cell_type": "code",
      "metadata": {
        "id": "mKMaxGH8VtpO",
        "colab_type": "code",
        "outputId": "c8eb2e37-4e78-436c-9b7e-139e81686943",
        "colab": {
          "base_uri": "https://localhost:8080/",
          "height": 34
        }
      },
      "source": [
        "\"\"\"\n",
        "Play RPS w/Computer\n",
        "\"\"\"\n",
        "\n",
        "from random import choice\n",
        "\n",
        "p1 = ['r', 'p', 's']  # randomly choose 'r' or 'p' or 's'\n",
        "p2 = ['r', 'p', 's']  # randomly choose 'r' or 'p' or 's'\n",
        "\n",
        "# Given a p1 and p2\n",
        "# print 1 if p1 has won\n",
        "# print 2 if p2 has won\n",
        "# print 0 if tie\n",
        "# print -1 if invalid input\n",
        "# expects both p1 and p2 inputs to be either\n",
        "# \"r\", \"p\", or \"s\"\n",
        "\n",
        "\n",
        "p1 = choice(p1)\n",
        "p2 = choice(p2)\n",
        "\n",
        "if (p1 == p2):\n",
        "  print(0)\n",
        "elif (p1 == 'r' and p2 == 's') or (p1 == 'p' and p2 == 'r') or (p1 == 's' and p2 == 'p'):\n",
        "  print(1)\n",
        "elif (p1 == 'p' and p2 == 's') or (p1 == 's' and p2 == 'r') or (p1 == 'r' and p2 == 'p'):\n",
        "  print(2)\n",
        "else:\n",
        "  print(-1)"
      ],
      "execution_count": 0,
      "outputs": [
        {
          "output_type": "stream",
          "text": [
            "0\n"
          ],
          "name": "stdout"
        }
      ]
    },
    {
      "cell_type": "markdown",
      "metadata": {
        "id": "INgOFvdoVtpU",
        "colab_type": "text"
      },
      "source": [
        "\n",
        "\n",
        "### P3.PY\n",
        "\n",
        "\n"
      ]
    },
    {
      "cell_type": "code",
      "metadata": {
        "id": "vhAAHjMSVtpV",
        "colab_type": "code",
        "outputId": "036bf703-e7df-46fc-b1ff-58aab3aa855e",
        "colab": {
          "base_uri": "https://localhost:8080/",
          "height": 85
        }
      },
      "source": [
        "\"\"\"\n",
        "Play RPS w/Input\n",
        "\"\"\"\n",
        "\n",
        "p1 = input(f'User 1 - Type rock, paper, or scissors: ')  # from user input\n",
        "p2 = input(f'User 1 - Type rock, paper, or scissors: ')  # from user input\n",
        "\n",
        "# Given a p1 and p2\n",
        "# print 1 if p1 has won\n",
        "# print 2 if p2 has won\n",
        "# print 0 if tie\n",
        "# print -1 if invalid input\n",
        "# expects both p1 and p2 inputs to be either\n",
        "# \"r\", \"p\", or \"s\"\n",
        "\n",
        "if (not isinstance(p1, str)) or (not isinstance(p2, str)):\n",
        "  print(\"Invalid\")\n",
        "\n",
        "elif (p1 == p2):\n",
        "  print(0)\n",
        "elif (p1 == 'rock' and p2 == 'scissors') or (p1 == 'paper' and p2 == 'rock') or (p1 == 'scissors' and p2 == 'paper'):\n",
        "  print(1)\n",
        "else:\n",
        "  print(2)\n",
        "\n",
        "print(f'p1{p1} and p2{p2}')"
      ],
      "execution_count": 0,
      "outputs": [
        {
          "output_type": "stream",
          "text": [
            "User 1 - Type rock, paper, or scissors: rock\n",
            "User 1 - Type rock, paper, or scissors: paper\n",
            "2\n",
            "p1rock and p2paper\n"
          ],
          "name": "stdout"
        }
      ]
    },
    {
      "cell_type": "markdown",
      "metadata": {
        "id": "SUqNu57OVtpY",
        "colab_type": "text"
      },
      "source": [
        "\n",
        "\n",
        "### P4.PY\n",
        "\n",
        "\n"
      ]
    },
    {
      "cell_type": "code",
      "metadata": {
        "id": "Vmlr5AqSVtpY",
        "colab_type": "code",
        "outputId": "96abb7f1-439d-4b86-88fc-44083859d785",
        "colab": {
          "base_uri": "https://localhost:8080/",
          "height": 51
        }
      },
      "source": [
        "\"\"\"\n",
        "Play RPS against Computer\n",
        "\"\"\"\n",
        "from random import randint\n",
        "\n",
        "p1 = input(f'Player - Type either rock, paper, or scissor: ')  # from user input - we still want validation from above!\n",
        "p2 = ['rock', 'paper', 'scissor']\n",
        "computer = p2[randint(0,2)]  # randomly generated against computer\n",
        "\n",
        "# Given a p1 and p2\n",
        "# print 1 if p1 has won\n",
        "# print 2 if p2 has won\n",
        "# print 0 if tie\n",
        "# print -1 if invalid input\n",
        "# expects both p1 and p2 inputs to be either\n",
        "# \"r\", \"p\", or \"s\"\n",
        "\n",
        "\n",
        "\n",
        "if (p1 == p2):\n",
        "  print(\"Tied\")\n",
        "elif (p1 == 'rock' and p2 == 'scissors') or (p1 == 'paper' and p2 == 'rock') or (p1 == 'scissors' and p2 == 'paper'):\n",
        "  print(\"Player Won\")\n",
        "else:\n",
        "  print(\"Computer Won\")"
      ],
      "execution_count": 0,
      "outputs": [
        {
          "output_type": "stream",
          "text": [
            "Player - Type either rock, paper, or scissor: rock\n",
            "Computer Won\n"
          ],
          "name": "stdout"
        }
      ]
    },
    {
      "cell_type": "markdown",
      "metadata": {
        "id": "F_7aaMtoVtpt",
        "colab_type": "text"
      },
      "source": [
        "\n",
        "\n",
        "### P5.PY\n",
        "\n",
        "\n"
      ]
    },
    {
      "cell_type": "code",
      "metadata": {
        "id": "U24EGu3VVtpu",
        "colab_type": "code",
        "outputId": "cf0794ab-785b-4a20-b31a-f4099c3d5450",
        "colab": {
          "base_uri": "https://localhost:8080/",
          "height": 51
        }
      },
      "source": [
        "\"\"\"\n",
        "Play RPS w/Bad Input\n",
        "\"\"\"\n",
        "from random import randint\n",
        "p1 = input(f'Player - Type either rock, paper, or scissor: ')  # can be invalid!\n",
        "p2 = ['rock', 'paper', 'scissor']\n",
        "computer = p2[randint(0,2)]  \n",
        "\n",
        "\"\"\"\n",
        "This is the same as the original RPS problem, \n",
        "except that cannot expect the input to be valid. \n",
        "While we *want* `r` or `p` or `s`, there is a possibility \n",
        "that input can be anything like...\n",
        "\n",
        "* `ROCK` (all caps)\n",
        "* `R` (`r` but capitalized)\n",
        "* `PAPrrRR` (incorrectly spelled, upper/lowercased)\n",
        "\n",
        "Implement conditional statements that will sanitize the \n",
        "user input or let user know that input is invalid.\n",
        "\"\"\"\n",
        "\n",
        "if p1 not in p2:\n",
        "  print(\"invalid\")\n",
        "\n",
        "elif (p1 == p2):\n",
        "  print(\"Tied\")\n",
        "elif (p1 == 'rock' and p2 == 'scissors') or (p1 == 'paper' and p2 == 'rock') or (p1 == 'scissors' and p2 == 'paper'):\n",
        "  print(\"Player Won\")\n",
        "else:\n",
        "  print(\"Computer Won\")"
      ],
      "execution_count": 0,
      "outputs": [
        {
          "output_type": "stream",
          "text": [
            "Player - Type either rock, paper, or scissor: rock\n",
            "Computer Won\n"
          ],
          "name": "stdout"
        }
      ]
    }
  ]
}