{
  "nbformat": 4,
  "nbformat_minor": 0,
  "metadata": {
    "colab": {
      "name": "Copy of functions_psets.ipynb",
      "provenance": [],
      "collapsed_sections": [],
      "include_colab_link": true
    },
    "kernelspec": {
      "name": "python3",
      "display_name": "Python 3"
    }
  },
  "cells": [
    {
      "cell_type": "markdown",
      "metadata": {
        "id": "view-in-github",
        "colab_type": "text"
      },
      "source": [
        "<a href=\"https://colab.research.google.com/github/twongz/PYTH225_Homework/blob/master/Copy_of_functions_psets.ipynb\" target=\"_parent\"><img src=\"https://colab.research.google.com/assets/colab-badge.svg\" alt=\"Open In Colab\"/></a>"
      ]
    },
    {
      "cell_type": "markdown",
      "metadata": {
        "id": "43e1PgRyNeyZ",
        "colab_type": "text"
      },
      "source": [
        "<a href=\"https://colab.research.google.com/github/mottaquikarim/PYTH2/blob/master/src/PSETS/nb/classes_psets.ipynb\" target=\"_parent\"><img src=\"https://colab.research.google.com/assets/colab-badge.svg\" alt=\"Open In Colab\"/></a>"
      ]
    },
    {
      "cell_type": "markdown",
      "metadata": {
        "id": "_IvyUuPjNeyb",
        "colab_type": "text"
      },
      "source": [
        "#  FUNCTIONS"
      ]
    },
    {
      "cell_type": "markdown",
      "metadata": {
        "id": "RGgp__RZNvUy",
        "colab_type": "text"
      },
      "source": [
        "## BASIC FUNCTION OPS"
      ]
    },
    {
      "cell_type": "markdown",
      "metadata": {
        "id": "yEdzSlN8NwyE",
        "colab_type": "text"
      },
      "source": [
        "### P1.PY"
      ]
    },
    {
      "cell_type": "code",
      "metadata": {
        "id": "XixCtMjENeye",
        "colab_type": "code",
        "colab": {
          "base_uri": "https://localhost:8080/",
          "height": 34
        },
        "outputId": "4d7180ca-6dad-4f7a-c516-0061630bb0db"
      },
      "source": [
        "\"\"\"\n",
        "Function Basics I - No Input\n",
        "\"\"\"\n",
        "\n",
        "# Write a and call a function called \"rand_list\" that generates a list of 5 random numbers between 1 and 500. Print out that list.\n",
        "import random\n",
        "def rand_list():\n",
        "\tnum1 = random.randint(1,501)\n",
        "\tnum2 = random.randint(1,501)\n",
        "\tnum3 = random.randint(1,501)\n",
        "\tnum4 = random.randint(1,501)\n",
        "\tnum5 = random.randint(1,501)\n",
        "\treturn num1, num2, num3, num4, num5 \n",
        "\t\n",
        "print(rand_list())"
      ],
      "execution_count": 1,
      "outputs": [
        {
          "output_type": "stream",
          "text": [
            "(300, 458, 295, 63, 445)\n"
          ],
          "name": "stdout"
        }
      ]
    },
    {
      "cell_type": "markdown",
      "metadata": {
        "id": "JHygF2-tNeyk",
        "colab_type": "text"
      },
      "source": [
        "### P2.PY\n"
      ]
    },
    {
      "cell_type": "code",
      "metadata": {
        "id": "a08oiPvoNeyl",
        "colab_type": "code",
        "colab": {
          "base_uri": "https://localhost:8080/",
          "height": 34
        },
        "outputId": "e0d399b2-3f5b-4964-b340-4f30d13ce01e"
      },
      "source": [
        "\"\"\"\n",
        "Function Basics II - Arguments\n",
        "\"\"\"\n",
        "\n",
        "# Write a and call function called \"names\" that separately intakes a person's first name and a person's last name. It should concatenate the names and return the person's full name.\n",
        "\n",
        "\n",
        "def names(first, last):\n",
        "\treturn first.title() + \" \" + last.title()\n",
        "\n",
        "print(names('John', 'Doe'))"
      ],
      "execution_count": 2,
      "outputs": [
        {
          "output_type": "stream",
          "text": [
            "John Doe\n"
          ],
          "name": "stdout"
        }
      ]
    },
    {
      "cell_type": "markdown",
      "metadata": {
        "id": "tFsdo4A6Neyn",
        "colab_type": "text"
      },
      "source": [
        "\n",
        "### P3.PY\n"
      ]
    },
    {
      "cell_type": "code",
      "metadata": {
        "id": "DBA7Joa8Neyp",
        "colab_type": "code",
        "colab": {
          "base_uri": "https://localhost:8080/",
          "height": 130
        },
        "outputId": "e62ceaf2-4d64-4332-b243-1febcd510c5b"
      },
      "source": [
        "\"\"\"\n",
        "Function Basics III - Default Arguments\n",
        "\"\"\"\n",
        "\n",
        "# Now write a and call function called \"fave_colors\" that separately intakes a person's first name, a person's last name, and **optionally** their favorite color.\n",
        "\n",
        "# The function should create and return a dict with the full name as a key and the favorite color as the value. If the person does not enter a favorite color, you should assume they have no favorite color and assign theirs to None. Try both use cases.\n",
        "\n",
        "def fave_colors(first_name, last_name, fav_color=None):\n",
        "\tcolor_dict = {}\n",
        "\tcolor_dict[first_name + \" \" + last_name] = fav_color\n",
        "\treturn color_dict\n",
        "\t\n",
        "\t\n",
        "print(fave_colors('john', 'doe, 'blue')) \n",
        "\n",
        "print(fave_colors('john, 'doe',))"
      ],
      "execution_count": 2,
      "outputs": [
        {
          "output_type": "error",
          "ename": "SyntaxError",
          "evalue": "ignored",
          "traceback": [
            "\u001b[0;36m  File \u001b[0;32m\"<ipython-input-3-5c704c9d3656>\"\u001b[0;36m, line \u001b[0;32m15\u001b[0m\n\u001b[0;31m    print(fave_colors('john', 'doe, 'blue'))\u001b[0m\n\u001b[0m                                        ^\u001b[0m\n\u001b[0;31mSyntaxError\u001b[0m\u001b[0;31m:\u001b[0m invalid syntax\n"
          ]
        }
      ]
    },
    {
      "cell_type": "markdown",
      "metadata": {
        "id": "cWqpS8KLNeyz",
        "colab_type": "text"
      },
      "source": [
        "\n",
        "### P4.PY\n"
      ]
    },
    {
      "cell_type": "code",
      "metadata": {
        "id": "WmATxpzvNey0",
        "colab_type": "code",
        "colab": {
          "base_uri": "https://localhost:8080/",
          "height": 68
        },
        "outputId": "476a5c9b-3027-48d3-e3ce-1d7912ce8775"
      },
      "source": [
        "\"\"\"\n",
        "Function Basics IV - Multiple Return Values\n",
        "\"\"\"\n",
        "\n",
        "# Write a and call a function called \"figures\" that takes any two numbers and **individually** returns the following as integers:\n",
        "# their sum\n",
        "# their product\n",
        "# the quotient for num1 / num2\n",
        "\n",
        "\"\"\"Print each value out individually in this format:\n",
        "(using 12 and 3)\n",
        "sum: 15\n",
        "product: 36\n",
        "quotient: 4\n",
        "\"\"\"\n",
        "\n",
        "def numbers(num1, num2):\n",
        "\tsome = num1+num2\n",
        "\tmulti = num1*num2\n",
        "\tdivide = num1/num2\n",
        "\treturn f' Sum: {some}\\n Product: {multi}\\n quotient {divide}'\n",
        "\n",
        "print(numbers(12,3))"
      ],
      "execution_count": 3,
      "outputs": [
        {
          "output_type": "stream",
          "text": [
            " Sum: 15\n",
            " Product: 36\n",
            " quotient 4.0\n"
          ],
          "name": "stdout"
        }
      ]
    },
    {
      "cell_type": "markdown",
      "metadata": {
        "id": "pqxwEC16Ney2",
        "colab_type": "text"
      },
      "source": [
        "\n",
        "### P5.PY\n"
      ]
    },
    {
      "cell_type": "code",
      "metadata": {
        "id": "i_tVcZ1FNey3",
        "colab_type": "code",
        "outputId": "bc8f3b6c-6894-49ff-fcef-19c5cf92968a",
        "colab": {
          "base_uri": "https://localhost:8080/",
          "height": 34
        }
      },
      "source": [
        "\"\"\"\n",
        "Function Basics V - Indeterminate Arguments\n",
        "\"\"\"\n",
        "\n",
        "# Write a and call a function called \"high_low\" that takes 3 numbers and returns the highest and lowest ones.\n",
        "def high_low(*args):\n",
        "  return max(args), min(args)\n",
        "\n",
        "h, l = high_low(1,2,3,4,5,6)\n",
        "\n",
        "print(high_low(1,2,3,4,5,6))"
      ],
      "execution_count": 5,
      "outputs": [
        {
          "output_type": "stream",
          "text": [
            "(6, 1)\n"
          ],
          "name": "stdout"
        }
      ]
    },
    {
      "cell_type": "markdown",
      "metadata": {
        "id": "1p9TsLXtNey5",
        "colab_type": "text"
      },
      "source": [
        "\n",
        "## DB_SEARCH\n"
      ]
    },
    {
      "cell_type": "markdown",
      "metadata": {
        "id": "W5DLuftkNyog",
        "colab_type": "text"
      },
      "source": [
        "### P1.PY"
      ]
    },
    {
      "cell_type": "code",
      "metadata": {
        "id": "WvU9x79ZNey6",
        "colab_type": "code",
        "colab": {
          "base_uri": "https://localhost:8080/",
          "height": 34
        },
        "outputId": "2645c2db-2278-4200-97e2-2df48dbd1b1e"
      },
      "source": [
        "\"\"\"\n",
        "GPA Calculator\n",
        "\"\"\"\n",
        "\n",
        "# Write a function called \"simple_gpa\" to find GPA when student enters a letter grade as a string. Assign the result to a variable called \"gpa\".\n",
        "\n",
        "\"\"\"\n",
        "Use these conversions:\n",
        "A+ --> 4.0\n",
        "A --> 4.0\n",
        "A- --> 3.7\n",
        "B+ --> 3.3\n",
        "B --> 3.0\n",
        "B- --> 2.7\n",
        "C+ --> 2.3\n",
        "C --> 2.0\n",
        "C- --> 1.7\n",
        "D+ --> 1.3\n",
        "D --> 1.0\n",
        "D- --> 0.7\n",
        "F --> 0.0\n",
        "\"\"\"\n",
        "\n",
        "def simple_gpa(letter):\n",
        "\tconversions = {\n",
        "\t\t'A+': '4.0',\n",
        "\t\t'A': '4.0',\n",
        "\t\t'A-': '3.7',\n",
        "\t\t'B+': '3.3',\n",
        "\t\t'B': '3.0',\n",
        "\t\t'B-': '2.7',\n",
        "\t\t'C+': '2.3',\n",
        "\t\t'C': '2.0',\n",
        "\t\t'C-': '1.7',\n",
        "\t\t'D+': '1.3',\n",
        "\t\t'D': '1.0',\n",
        "\t\t'D-': '0.7',\n",
        "\t\t'F': '0.0'\n",
        "\t\t}\n",
        "\t\t\n",
        "\tif letter in conversions.keys():\n",
        "\t\treturn conversions[letter]\n",
        "\n",
        "print(simple_gpa('A'))"
      ],
      "execution_count": 7,
      "outputs": [
        {
          "output_type": "stream",
          "text": [
            "4.0\n"
          ],
          "name": "stdout"
        }
      ]
    },
    {
      "cell_type": "markdown",
      "metadata": {
        "id": "XJfdr65oNey8",
        "colab_type": "text"
      },
      "source": [
        "\n",
        "### P2.PY\n",
        "\n"
      ]
    },
    {
      "cell_type": "code",
      "metadata": {
        "id": "STG3hDMhNey9",
        "colab_type": "code",
        "outputId": "acd85c6c-e760-4669-8af8-2c94290696ae",
        "colab": {
          "base_uri": "https://localhost:8080/",
          "height": 147
        }
      },
      "source": [
        "\"\"\"\n",
        "RGB to HEX\n",
        "\"\"\"\n",
        "\n",
        "# Write a and call a function called \"rgb_hex\" that takes a parameter called \"color.\" The function should be able to intake a color in rgb format and return it in hex format as well as vice versa. A sample of color conversions are below. Write in logic so the function can interpret rgb and hex colors entered in different formats such as \"rgb_hex((255,255,255))\" or \"rgb_hex('ffffff')\". Also make sure to account for someone inputting a color not in the database.\n",
        "\n",
        "color_conversions = {\n",
        "'#4286f4': 'rgb(66, 134, 244)',\n",
        "'#5905c6': 'rgb(89, 5, 198)',\n",
        "'#fce702': 'rgb(252, 231, 2)',\n",
        "'#ffffff': 'rgb(255, 255, 255)',\n",
        "'#000000': 'rgb(0, 0, 0)',\n",
        "'#0ac913': 'rgb(10, 201, 19)',\n",
        "'#65c672': 'rgb(101, 198, 114)',\n",
        "'#f8d6ff': 'rgb(248, 214, 255)',\n",
        "'#b70782': 'rgb(183, 7, 130)',\n",
        "'#001184': 'rgb(0, 17, 132)',\n",
        "'#495eed': 'rgb(73, 94, 237)',\n",
        "'#b7ffb8': 'rgb(183, 255, 184)',\n",
        "'#ffbf00': 'rgb(255, 191, 0)',\n",
        "'#7a020e': 'rgb(122, 2, 14)',\n",
        "'#ff5e6e': 'rgb(255, 94, 110)',\n",
        "'#22003d': 'rgb(34, 0, 61)'\n",
        "}\n",
        "\n",
        "def rgb_hex(hex_color: str) -> str:\n",
        "  if not isinstance(hex_color, str):\n",
        "    raise Exception(f\"hex_color {hex_color} must be string\"\n",
        "\n",
        "    if len(hex_color) == 6\n",
        "      hex_color = \"#\" + hex_color\n",
        "    elif len(hex_color) < 6:\n",
        "      raise Exception(\"invalid hex color length\")\n",
        "\n",
        "    rgb_color = color_conversations[hex_color]\n",
        "    return rgb_color\n",
        "\n",
        "output = rgb_hex(\"#00000\")\n",
        "print(output)\n"
      ],
      "execution_count": 0,
      "outputs": [
        {
          "output_type": "error",
          "ename": "SyntaxError",
          "evalue": "ignored",
          "traceback": [
            "\u001b[0;36m  File \u001b[0;32m\"<ipython-input-4-930fe684f98f>\"\u001b[0;36m, line \u001b[0;32m31\u001b[0m\n\u001b[0;31m    hex_color= \"#\" + hex_color\u001b[0m\n\u001b[0m            ^\u001b[0m\n\u001b[0;31mSyntaxError\u001b[0m\u001b[0;31m:\u001b[0m invalid syntax\n"
          ]
        },
        {
          "output_type": "stream",
          "text": [
            "ERROR! Session/line number was not unique in database. History logging moved to new session 65\n"
          ],
          "name": "stdout"
        }
      ]
    },
    {
      "cell_type": "markdown",
      "metadata": {
        "id": "AQVD0N7BNezC",
        "colab_type": "text"
      },
      "source": [
        "\n",
        "\n",
        "## MATH\n",
        "\n",
        "\n"
      ]
    },
    {
      "cell_type": "markdown",
      "metadata": {
        "id": "bmEK7PmRN1Fu",
        "colab_type": "text"
      },
      "source": [
        "### P1.PY"
      ]
    },
    {
      "cell_type": "code",
      "metadata": {
        "id": "oMKX0HrfNezD",
        "colab_type": "code",
        "colab": {
          "base_uri": "https://localhost:8080/",
          "height": 34
        },
        "outputId": "e7df0c99-ecce-46ee-9587-58fe5db49caf"
      },
      "source": [
        "\"\"\"\n",
        "Simple Interest Calculator\n",
        "\"\"\"\n",
        "\n",
        "# Write a function called \"simple_interest\" that will allow a user to find out how much they will have in savings based on their current funds and an interest rate. (Instead of collecting user input, you can directly pass values of your choosing for the arguments.)\n",
        "\n",
        "# The formula for simple interest is...\n",
        "# A = P(1 + rt), where...\n",
        "# P = principal amount of money\n",
        "# r = interest rate\n",
        "# t = number of time periods the principal will earn interest\n",
        "\n",
        "\n",
        "def simple_interest(p, r, t):\n",
        "\tA = p*(1 + r*t)\n",
        "\treturn A\n",
        "\n",
        "print(simple_interest(1,3,5))"
      ],
      "execution_count": 9,
      "outputs": [
        {
          "output_type": "stream",
          "text": [
            "16\n"
          ],
          "name": "stdout"
        }
      ]
    },
    {
      "cell_type": "markdown",
      "metadata": {
        "id": "7ScSNwjINezF",
        "colab_type": "text"
      },
      "source": [
        "\n",
        "\n",
        "### P2.PY\n",
        "\n",
        "\n"
      ]
    },
    {
      "cell_type": "code",
      "metadata": {
        "id": "YwFx8wHsNezG",
        "colab_type": "code",
        "colab": {}
      },
      "source": [
        "\"\"\"\n",
        "Permutations & Combinations\n",
        "\"\"\"\n",
        "\n",
        "# Create two functions:\n",
        "\t# One called \"perms\", which outputs the **number** of possible **permutations** of rolling two 6-sided dice and assign it to a variable called \"permutations\".\n",
        "\t# One called \"combs\", which outputs the **number** of possible **combinations** of rolling two 6-sided dice and assigns it to a variable called \"combinations\".\n",
        "\t# Hint: The formulas for these are below, where n is the number of possible outcomes for one trial and r is the number of outcomes you will pick at a time. The contextual difference is that order matters for permutations, meaning the same two numbers in a different order count as two unique permutations. For combinations, the order doesn't matter.\n",
        "\n",
        "# permutation formula = n! / (n-r)!\n",
        "# combination formula = n! / (nâr)!r!\n",
        "\n"
      ],
      "execution_count": 0,
      "outputs": []
    },
    {
      "cell_type": "markdown",
      "metadata": {
        "id": "7bTNjBy_NezI",
        "colab_type": "text"
      },
      "source": [
        "\n",
        "\n",
        "### P3.PY\n",
        "\n",
        "\n"
      ]
    },
    {
      "cell_type": "code",
      "metadata": {
        "id": "NC2JU5p1NezI",
        "colab_type": "code",
        "colab": {}
      },
      "source": [
        "\"\"\"\n",
        "Multiples\n",
        "\"\"\"\n",
        "\n",
        "# Write a function called \"sum_multiples\" that take two numbers and returns the sum of their multiples between 0 and some limit. These three items should be generalized as parameters.\n",
        "\n"
      ],
      "execution_count": 0,
      "outputs": []
    },
    {
      "cell_type": "markdown",
      "metadata": {
        "id": "ARbsmw_mNezL",
        "colab_type": "text"
      },
      "source": [
        "## DATA_MANIPULATION\n",
        "\n",
        "\n"
      ]
    },
    {
      "cell_type": "markdown",
      "metadata": {
        "id": "wTd0ZSSeN4Y8",
        "colab_type": "text"
      },
      "source": [
        "### P1.PY"
      ]
    },
    {
      "cell_type": "code",
      "metadata": {
        "id": "iUq-vFf2NezM",
        "colab_type": "code",
        "colab": {
          "base_uri": "https://localhost:8080/",
          "height": 54
        },
        "outputId": "aa7166b8-7517-4102-a153-c593421b4d3d"
      },
      "source": [
        "\"\"\"\n",
        "File Organization\n",
        "\"\"\"\n",
        "\n",
        "# The dict \"files\" below contains file names and the name of the person who owns each file. Write and call a function to reorganize \"files\" such that it contains each person's name and the files he/she owns. Assign the resultant dict to a new dict called \"grouped_by_owner\". Print out the key value pairs in this format - key: value.\n",
        "\n",
        "# Function name should be: group_by_owners\n",
        "# Dict of results should be named: files_by_owner\n",
        "\n",
        "files = {\n",
        "  'Input1.txt': 'Beau',\n",
        "  'Code1.py': 'Mischa',\n",
        "  'Output1.txt': 'Beau',\n",
        "  'Input2.txt': 'Beau',\n",
        "  'Code2.py': 'Mischa',\n",
        "  'Output2.txt': 'Beau',\n",
        "  'Input3.txt': 'Percy',\n",
        "  'Code3.py': 'Alejandra',\n",
        "  'Output3.txt': 'Percy'\n",
        "}\n",
        "\n",
        "\n",
        "def group_by_owners(files):\n",
        "\t\n",
        "\ttempdict = {}\n",
        "\t\n",
        "\tfor files, names in files.items():\n",
        "\t\tif names not in tempdict.keys():\n",
        "\t\t\ttempdict[names] = []\n",
        "\t\ttempdict[names].append(files)\n",
        "\t\t\n",
        "\treturn tempdict\n",
        "\t\n",
        "print(group_by_owners(files))"
      ],
      "execution_count": 10,
      "outputs": [
        {
          "output_type": "stream",
          "text": [
            "{'Beau': ['Input1.txt', 'Output1.txt', 'Input2.txt', 'Output2.txt'], 'Mischa': ['Code1.py', 'Code2.py'], 'Percy': ['Input3.txt', 'Output3.txt'], 'Alejandra': ['Code3.py']}\n"
          ],
          "name": "stdout"
        }
      ]
    },
    {
      "cell_type": "markdown",
      "metadata": {
        "id": "-7KFDG5lNezO",
        "colab_type": "text"
      },
      "source": [
        "\n",
        "\n",
        "### P2.PY\n",
        "\n",
        "\n"
      ]
    },
    {
      "cell_type": "code",
      "metadata": {
        "id": "S5e9s-njNezP",
        "colab_type": "code",
        "colab": {}
      },
      "source": [
        "\"\"\"\n",
        "Clean Pairs\n",
        "\"\"\"\n",
        "\n",
        "# Below is a list of common food pairings. Write a function called \"cleaner\" that cleans the data such that each list item is a tuple (e.g. ('Milk', 'Cookies')). Assign the results to a variable called \"clean_pairs\".\n",
        "\n",
        "pairs = [('Milk', 'Cookies'), ('Peanut Butter - Jelly'), ('Spaghetti & Meatballs'), ('Eggs', 'Bacon'), ('Pancakes & Syrup'), ('Chicken - Waffles'), ('Peas', 'Carrots')]\n",
        "\n",
        "\n",
        "def cleaner(pairs):\n",
        "\t\n",
        "\ttemp_pairs = []\n",
        "\ttup_pairs = []\n",
        "\n",
        "\tfor items in pairs:\n",
        "\t\tif isinstance(items, tuple):\n",
        "\t\t\ttemp_pairs.append(items)\n",
        "\t\t\t# print(temp_pairs)\n",
        "\t\t\n",
        "\t\tif isinstance(items, tuple) == False:\n",
        "\t\t\tif \"-\" in items:\n",
        "\t\t\t\ttemp_pairs.append(items.split('-'))\n",
        "\t\t\n",
        "\t\t\telif isinstance(items, tuple) == False:\n",
        "\t\t\t\tif \"&\" in items:\n",
        "\t\t\t\t\ttemp_pairs.append(items.split('&'))\n",
        "\t\t\t\n",
        "\n",
        "\tfor stuff in temp_pairs:\n",
        "\t\tif isinstance(stuff, tuple) == False:\n",
        "\t\t\ttuple(stuff)\n",
        "\t\t\ttup_pairs.append(stuff)\n",
        "\t\t\n",
        "\t\telif isinstance(stuff, tuple) == True:\n",
        "\t\t\ttuple(stuff)\n",
        "\t\t\ttup_pairs.append(stuff)\n",
        "\t\t\t\n",
        "\treturn tup_pairs\n"
      ],
      "execution_count": 0,
      "outputs": []
    },
    {
      "cell_type": "markdown",
      "metadata": {
        "id": "E39dQ-pONezT",
        "colab_type": "text"
      },
      "source": [
        "\n",
        "\n",
        "### P3.PY\n",
        "\n",
        "\n"
      ]
    },
    {
      "cell_type": "code",
      "metadata": {
        "id": "b6qFJuFfNezT",
        "colab_type": "code",
        "colab": {
          "base_uri": "https://localhost:8080/",
          "height": 68
        },
        "outputId": "5237bdc6-6984-4ce9-ec8b-4a3f315d926c"
      },
      "source": [
        "\"\"\"\n",
        "Password Requirements\n",
        "\"\"\"\n",
        "\n",
        "# Write a Python program called \"pw_validator\" to validate a password based on the security requirements outlined below.\n",
        "\n",
        "# VALIDATION REQUIREMENTS:\n",
        "## At least 1 lowercase letter [a-z]\n",
        "## At least 1 uppercase letter [A-Z].\n",
        "## At least 1 number [0-9].\n",
        "## At least 1 special character [~!@#$%&*].\n",
        "## Min length 6 characters.\n",
        "## Max length 16 characters.\n",
        "\n",
        "pw = 'Python'\n",
        "\n",
        "def pw_validator(pw): \n",
        "      \n",
        "    SpecialSym =['!', '#', '$', '%'] \n",
        "    val = True\n",
        "      \n",
        "    if len(pw) < 6: \n",
        "        print('length should be at least 6') \n",
        "        val = False\n",
        "          \n",
        "    if len(pw) > 16: \n",
        "        print('length should be not be greater than 16') \n",
        "        val = False\n",
        "          \n",
        "    if not any(char.isdigit() for char in pw): \n",
        "        print('Password should have at least one numeral') \n",
        "        val = False\n",
        "          \n",
        "    if not any(char.isupper() for char in pw): \n",
        "        print('Password should have at least one uppercase letter') \n",
        "        val = False\n",
        "          \n",
        "    if not any(char.islower() for char in pw): \n",
        "        print('Password should have at least one lowercase letter') \n",
        "        val = False\n",
        "          \n",
        "    if not any(char in SpecialSym for char in pw): \n",
        "        print('Password should have at least one of the symbols $@#') \n",
        "        val = False\n",
        "    if val: \n",
        "        return val \n",
        "\n",
        "print(pw_validator(pw))"
      ],
      "execution_count": 16,
      "outputs": [
        {
          "output_type": "stream",
          "text": [
            "Password should have at least one numeral\n",
            "Password should have at least one of the symbols $@#\n",
            "None\n"
          ],
          "name": "stdout"
        }
      ]
    },
    {
      "cell_type": "markdown",
      "metadata": {
        "id": "X8kPjts_NezV",
        "colab_type": "text"
      },
      "source": [
        "\n",
        "\n",
        "### P4.PY\n",
        "\n",
        "\n"
      ]
    },
    {
      "cell_type": "code",
      "metadata": {
        "id": "AucIC9Z8NezW",
        "colab_type": "code",
        "colab": {}
      },
      "source": [
        "\"\"\"\n",
        "Rainbows & Wobniars\n",
        "\"\"\"\n",
        "\n",
        "# Write a function called \"wobniar\", which should contain the local variable \"rainbow\" below. The function should collect every other color of the rainbow starting at index 0 and add each one to a new list. When you add each color, it should be spelled backwards. For example, the word 'sing' would be added to the new list as 'gnis'. Return and print the list.\n",
        "\n"
      ],
      "execution_count": 0,
      "outputs": []
    },
    {
      "cell_type": "markdown",
      "metadata": {
        "id": "4gyJyWF1Nezc",
        "colab_type": "text"
      },
      "source": [
        "\n",
        "\n",
        "### P5.PY\n",
        "\n",
        "\n"
      ]
    },
    {
      "cell_type": "code",
      "metadata": {
        "id": "aW8b7Bk_Neze",
        "colab_type": "code",
        "colab": {
          "base_uri": "https://localhost:8080/",
          "height": 34
        },
        "outputId": "2adc1323-7adf-4f9b-d5f3-6d30533a45f0"
      },
      "source": [
        "\"\"\"\n",
        "Speeding Tickets\n",
        "\"\"\"\n",
        "\n",
        "# Imagine you're a cop waiting on the side of the road to pick up speeders. Write a function called \"speeders\" to check the speed of drivers and record their license plate numbers.\n",
        "## If speed is less than or equal 70 (mph), it should print \"Good\". \n",
        "## If the speed is greater than 70, find the license plate number of that driver in your \"driver_points\" dict (see below) and add a point to their license for every 5 full mph above the speed limit.\n",
        "## If at any point that driver has 12 or more points on his/her license, print \"License Suspended\".\n",
        "## Call the function on each driver in the \"passing_cars\" dict below to see difference use cases work.\n",
        "\n",
        "# p.s. Feel free to move these around in your code as needed.\n",
        "passing_cars = { # license plate nums & speed\n",
        "  '4GRONPH': 68,\n",
        "  'OJGL6WD': 82,\n",
        "  'Q5517FA': 70,\n",
        "  'S0PNWEJ': 95,\n",
        "  'RM23RXC': 64,\n",
        "  'KH5TH8D': 100,\n",
        "  'IHEHJ4P': 67,\n",
        "  'SVK90LT': 73,\n",
        "  'LJSV4N1': 88,\n",
        "  'KDRLGXM': 91\n",
        "}\n",
        "\n",
        "driver_points = { # license plate nums & points\n",
        "  '4GRONPH': 8,\n",
        "  'OJGL6WD': 12,\n",
        "  'Q5517FA': 1,\n",
        "  'S0PNWEJ': 2,\n",
        "  'RM23RXC': 6,\n",
        "  'KH5TH8D': 7,\n",
        "  'IHEHJ4P': 10,\n",
        "  'SVK90LT': 5,\n",
        "  'LJSV4N1': 3,\n",
        "  'KDRLGXM': 9\n",
        "  }\n",
        "\n",
        "\n",
        "def speeders(passing_cars):\n",
        "\tspeedlimit = 70\n",
        "\tpoint_per_mile = 5\n",
        "\tpoints_for_suspension = 12\n",
        "\t\n",
        "\tfor plate, speed in passing_cars.items():\n",
        "\t\tif speed >= speedlimit:\n",
        "\t\t\tpoints_to_add = (speed - speedlimit) // point_per_mile\n",
        "\t\t\tdriver_points[plate] = driver_points[plate] + points_to_add\n",
        "\t\t\n",
        "\treturn driver_points\n",
        "\t\n",
        "print(speeders(passing_cars))\n"
      ],
      "execution_count": 17,
      "outputs": [
        {
          "output_type": "stream",
          "text": [
            "{'4GRONPH': 8, 'OJGL6WD': 14, 'Q5517FA': 1, 'S0PNWEJ': 7, 'RM23RXC': 6, 'KH5TH8D': 13, 'IHEHJ4P': 10, 'SVK90LT': 5, 'LJSV4N1': 6, 'KDRLGXM': 13}\n"
          ],
          "name": "stdout"
        }
      ]
    }
  ]
}