{
  "nbformat": 4,
  "nbformat_minor": 0,
  "metadata": {
    "colab": {
      "name": "Copy of basic_data_types_psets.ipynb",
      "provenance": [],
      "collapsed_sections": [
        "CXt8F7evWHum",
        "ujd4_d5VVrWD",
        "VbaMGAAYVrWH",
        "3j0bS-HcWNLi",
        "WAYZJHHgVrWk",
        "T4rtuQ1CVrWr"
      ],
      "include_colab_link": true
    },
    "kernelspec": {
      "name": "python3",
      "display_name": "Python 3"
    }
  },
  "cells": [
    {
      "cell_type": "markdown",
      "metadata": {
        "id": "view-in-github",
        "colab_type": "text"
      },
      "source": [
        "<a href=\"https://colab.research.google.com/github/twongz/PYTH225_Homework/blob/master/Copy_of_basic_data_types_psets.ipynb\" target=\"_parent\"><img src=\"https://colab.research.google.com/assets/colab-badge.svg\" alt=\"Open In Colab\"/></a>"
      ]
    },
    {
      "cell_type": "markdown",
      "metadata": {
        "id": "hFmxhgDQVrV8",
        "colab_type": "text"
      },
      "source": [
        "#  BASIC DATA TYPES\n",
        "\n"
      ]
    },
    {
      "cell_type": "markdown",
      "metadata": {
        "id": "uayAR97cWGX1",
        "colab_type": "text"
      },
      "source": [
        "## EASY"
      ]
    },
    {
      "cell_type": "markdown",
      "metadata": {
        "id": "CXt8F7evWHum",
        "colab_type": "text"
      },
      "source": [
        "### P1.PY"
      ]
    },
    {
      "cell_type": "code",
      "metadata": {
        "id": "gYyR5LKAVrWA",
        "colab_type": "code",
        "outputId": "a922264c-7885-453e-d789-57e9a8857c24",
        "colab": {
          "base_uri": "https://localhost:8080/",
          "height": 235
        }
      },
      "source": [
        "\"\"\"\n",
        "Placeholders\n",
        "\"\"\"\n",
        "\n",
        "# You're writing a program, and you don't know what your starting value for your 'initial' variable is yet. The program won't run if you leave it blank, but you don't want to forget you need it! Make a workaround.\n",
        "\n",
        "a = none\n",
        "print(a)\n"
      ],
      "execution_count": 0,
      "outputs": [
        {
          "output_type": "error",
          "ename": "NameError",
          "evalue": "ignored",
          "traceback": [
            "\u001b[0;31m---------------------------------------------------------------------------\u001b[0m",
            "\u001b[0;31mNameError\u001b[0m                                 Traceback (most recent call last)",
            "\u001b[0;32m<ipython-input-1-a78e124ab724>\u001b[0m in \u001b[0;36m<module>\u001b[0;34m()\u001b[0m\n\u001b[1;32m      5\u001b[0m \u001b[0;31m# You're writing a program, and you don't know what your starting value for your 'initial' variable is yet. The program won't run if you leave it blank, but you don't want to forget you need it! Make a workaround.\u001b[0m\u001b[0;34m\u001b[0m\u001b[0;34m\u001b[0m\u001b[0;34m\u001b[0m\u001b[0m\n\u001b[1;32m      6\u001b[0m \u001b[0;34m\u001b[0m\u001b[0m\n\u001b[0;32m----> 7\u001b[0;31m \u001b[0ma\u001b[0m \u001b[0;34m=\u001b[0m \u001b[0mnone\u001b[0m\u001b[0;34m\u001b[0m\u001b[0;34m\u001b[0m\u001b[0m\n\u001b[0m\u001b[1;32m      8\u001b[0m \u001b[0mprint\u001b[0m\u001b[0;34m(\u001b[0m\u001b[0ma\u001b[0m\u001b[0;34m)\u001b[0m\u001b[0;34m\u001b[0m\u001b[0;34m\u001b[0m\u001b[0m\n",
            "\u001b[0;31mNameError\u001b[0m: name 'none' is not defined"
          ]
        }
      ]
    },
    {
      "cell_type": "markdown",
      "metadata": {
        "id": "ujd4_d5VVrWD",
        "colab_type": "text"
      },
      "source": [
        "\n",
        "\n",
        "### P2.PY\n",
        "\n",
        "\n"
      ]
    },
    {
      "cell_type": "code",
      "metadata": {
        "id": "9p_mg-MjVrWE",
        "colab_type": "code",
        "outputId": "cb7ab881-d458-43aa-8114-c8c761f55b22",
        "colab": {
          "base_uri": "https://localhost:8080/",
          "height": 34
        }
      },
      "source": [
        "\"\"\"\n",
        "Basic Variables\n",
        "\"\"\"\n",
        "\n",
        "# Create a variable that represents your favorite number, and add a note to remind yourself what this variable represents. Now print it out without re-typing the number.\n",
        "\n",
        "a = 7\n",
        "print(a)\n",
        "\n",
        "# Create another variable that represents your favorite color, and do the same steps as above.\n",
        "\n"
      ],
      "execution_count": 0,
      "outputs": [
        {
          "output_type": "stream",
          "text": [
            "7\n"
          ],
          "name": "stdout"
        }
      ]
    },
    {
      "cell_type": "markdown",
      "metadata": {
        "id": "VbaMGAAYVrWH",
        "colab_type": "text"
      },
      "source": [
        "\n",
        "\n",
        "### P3.PY\n",
        "\n",
        "\n"
      ]
    },
    {
      "cell_type": "code",
      "metadata": {
        "id": "2i4mFvLGVrWI",
        "colab_type": "code",
        "outputId": "00c9c9e3-5364-449b-c662-766a98bd8faf",
        "colab": {
          "base_uri": "https://localhost:8080/",
          "height": 85
        }
      },
      "source": [
        "\"\"\"\n",
        "String Formatting\n",
        "\"\"\"\n",
        "\n",
        "# Create a variable that contains the first 4 lines of lyrics from your favorite song. Add a comment that includes the song title and artist **each on their own line**! Now print out this variable.\n",
        "\n",
        "lyrics = \"\\n dont stop \\n belib=ving \\n hold on to that feeling\"\n",
        "print(lyrics)\n",
        "\n"
      ],
      "execution_count": 0,
      "outputs": [
        {
          "output_type": "stream",
          "text": [
            "\n",
            " dont stop \n",
            " belib=ving \n",
            " hold on to that feeling\n"
          ],
          "name": "stdout"
        }
      ]
    },
    {
      "cell_type": "markdown",
      "metadata": {
        "id": "poqjlnEOVrWh",
        "colab_type": "text"
      },
      "source": [
        "## OPERATORS\n",
        "\n",
        "\n",
        "\n"
      ]
    },
    {
      "cell_type": "markdown",
      "metadata": {
        "id": "3j0bS-HcWNLi",
        "colab_type": "text"
      },
      "source": [
        "### P1.PY"
      ]
    },
    {
      "cell_type": "code",
      "metadata": {
        "id": "poP19mJxVrWi",
        "colab_type": "code",
        "outputId": "3e2d4210-3d7d-4d0f-8e17-cc02a8f1d039",
        "colab": {
          "base_uri": "https://localhost:8080/",
          "height": 68
        }
      },
      "source": [
        "\"\"\"\n",
        "Game Show Score\n",
        "\"\"\"\n",
        "\n",
        "# Imagine the var below represents the latest score of a competitor on a game show. As this person plays, you need to update their score to reflect gains and losses in points. Each math operation below dictates the change in the competitor's score to be made after each of his or her actions.\n",
        "\n",
        "# Complete the below math operations and print the results to show the changes in the competitor's score throughout the game.\n",
        "\n",
        "latest_score = 100\n",
        "print(latest_score)\n",
        "\n",
        "# Add 50\n",
        "latest_score += 50\n",
        "\n",
        "print(latest_score)\n",
        "\n",
        "# Subtract 90\n",
        "latest_score -= 90\n",
        "print(latest_score)\n",
        "\n",
        "\n",
        "# Multiply 10\n",
        "\n",
        "\n",
        "\n",
        "# Divide 150\n",
        "\n",
        "\n",
        "\n",
        "# Modulus 3\n",
        "\n",
        "\n"
      ],
      "execution_count": 0,
      "outputs": [
        {
          "output_type": "stream",
          "text": [
            "100\n",
            "150\n",
            "60\n"
          ],
          "name": "stdout"
        }
      ]
    },
    {
      "cell_type": "markdown",
      "metadata": {
        "id": "WAYZJHHgVrWk",
        "colab_type": "text"
      },
      "source": [
        "\n",
        "\n",
        "### P2.PY\n",
        "\n",
        "\n"
      ]
    },
    {
      "cell_type": "code",
      "metadata": {
        "id": "P067XIZ8VrWl",
        "colab_type": "code",
        "outputId": "1516fa7f-8ece-49ff-965a-0ed34be90d93",
        "colab": {
          "base_uri": "https://localhost:8080/",
          "height": 34
        }
      },
      "source": [
        "\"\"\"\n",
        "String Operators\n",
        "\"\"\"\n",
        "\n",
        "# Create two variables, each of which is half of a compound sentence. \n",
        "## Example compound sentence: \"I'll go to the beach today, and I'll go snorkeling.\" \n",
        "\"\"\"\n",
        "i tried to hard and got so far in the end it doesnt even mater\n",
        "\"\"\""
      ],
      "execution_count": 0,
      "outputs": [
        {
          "output_type": "execute_result",
          "data": {
            "text/plain": [
              "'\\ni tried to hard and got so far in the end it doesnt even mater\\n'"
            ]
          },
          "metadata": {
            "tags": []
          },
          "execution_count": 5
        }
      ]
    },
    {
      "cell_type": "markdown",
      "metadata": {
        "id": "TqqaKHjuVrWn",
        "colab_type": "text"
      },
      "source": [
        "\n",
        "\n",
        "### P3.PY\n",
        "\n",
        "\n"
      ]
    },
    {
      "cell_type": "code",
      "metadata": {
        "id": "H7kysyPYVrWo",
        "colab_type": "code",
        "outputId": "cda73637-2459-411a-c295-1ef0804981c3",
        "colab": {
          "base_uri": "https://localhost:8080/",
          "height": 232
        }
      },
      "source": [
        "\"\"\"\n",
        "Addition I - Numbers & Strings\n",
        "\"\"\"\n",
        "\n",
        "# Add the below sets of variables together without causing any Type Errors. \n",
        "\n",
        "# A)\n",
        "a = 0\n",
        "b = 2\n",
        "c = a + b\n",
        "print(c)\n",
        "\n",
        "\n",
        "# B)\n",
        "c = '0'\n",
        "d = '2'\n",
        "e = c + d\n",
        "print(e)\n",
        "\n",
        "\n",
        "# C)\n",
        "e = '0'\n",
        "f = 2\n",
        "int_to_string = str(f)\n",
        "print(e + f)"
      ],
      "execution_count": 0,
      "outputs": [
        {
          "output_type": "stream",
          "text": [
            "2\n",
            "02\n"
          ],
          "name": "stdout"
        },
        {
          "output_type": "error",
          "ename": "TypeError",
          "evalue": "ignored",
          "traceback": [
            "\u001b[0;31m---------------------------------------------------------------------------\u001b[0m",
            "\u001b[0;31mTypeError\u001b[0m                                 Traceback (most recent call last)",
            "\u001b[0;32m<ipython-input-16-dd9d088a7929>\u001b[0m in \u001b[0;36m<module>\u001b[0;34m()\u001b[0m\n\u001b[1;32m     23\u001b[0m \u001b[0mf\u001b[0m \u001b[0;34m=\u001b[0m \u001b[0;36m2\u001b[0m\u001b[0;34m\u001b[0m\u001b[0;34m\u001b[0m\u001b[0m\n\u001b[1;32m     24\u001b[0m \u001b[0mint_to_string\u001b[0m \u001b[0;34m=\u001b[0m \u001b[0mstr\u001b[0m\u001b[0;34m(\u001b[0m\u001b[0mf\u001b[0m\u001b[0;34m)\u001b[0m\u001b[0;34m\u001b[0m\u001b[0;34m\u001b[0m\u001b[0m\n\u001b[0;32m---> 25\u001b[0;31m \u001b[0mprint\u001b[0m\u001b[0;34m(\u001b[0m\u001b[0me\u001b[0m \u001b[0;34m+\u001b[0m \u001b[0mf\u001b[0m\u001b[0;34m)\u001b[0m\u001b[0;34m\u001b[0m\u001b[0;34m\u001b[0m\u001b[0m\n\u001b[0m",
            "\u001b[0;31mTypeError\u001b[0m: must be str, not int"
          ]
        }
      ]
    },
    {
      "cell_type": "markdown",
      "metadata": {
        "id": "T4rtuQ1CVrWr",
        "colab_type": "text"
      },
      "source": [
        "\n",
        "\n",
        "### P4.PY\n",
        "\n",
        "\n"
      ]
    },
    {
      "cell_type": "code",
      "metadata": {
        "id": "eCkVtKI8VrWs",
        "colab_type": "code",
        "colab": {}
      },
      "source": [
        "\"\"\"\n",
        "Addition II - Booleans\n",
        "\"\"\"\n",
        "\n",
        "# Add the below sets of variables together.\n",
        "\n",
        "# A)\n",
        "a = True\n",
        "b = True\n",
        "\n",
        "\n",
        "\n",
        "# B)\n",
        "c = False\n",
        "d = False\n",
        "\n",
        "\n",
        "\n",
        "# C)\n",
        "e = True\n",
        "f = False"
      ],
      "execution_count": 0,
      "outputs": []
    },
    {
      "cell_type": "markdown",
      "metadata": {
        "id": "0o8YPHxoVrWL",
        "colab_type": "text"
      },
      "source": [
        "## TYPECASTING\n",
        "\n"
      ]
    },
    {
      "cell_type": "markdown",
      "metadata": {
        "id": "XlNf2YptWKVu",
        "colab_type": "text"
      },
      "source": [
        "### P1.PY"
      ]
    },
    {
      "cell_type": "code",
      "metadata": {
        "id": "LDgWvrWzVrWM",
        "colab_type": "code",
        "outputId": "d0194d19-4d8f-4cb3-a529-4e51111662d9",
        "colab": {
          "base_uri": "https://localhost:8080/",
          "height": 153
        }
      },
      "source": [
        "\"\"\"\n",
        "Typcasting w. Integers & Floats\n",
        "\"\"\"\n",
        "\n",
        "# Convert these numbers into floats and back. Print out each result as well as its data type.\n",
        "\n",
        "five = 5\n",
        "zero = 0\n",
        "neg_8 = -8\n",
        "neg_22 = -22\n",
        "five = float(5)\n",
        "print(five)\n",
        "zero = float(0)\n",
        "print(zero)\n",
        "neg_8 = float(-8)\n",
        "print(neg_8)\n",
        "neg_22 = float(-22)\n",
        "print(neg_22)\n",
        "five = int(5)\n",
        "print(five)\n",
        "zero = int(0)\n",
        "print(zero)\n",
        "neg_8 = int(-8)\n",
        "print(neg_8)\n",
        "neg_22 = int(-22)\n",
        "print(neg_22)"
      ],
      "execution_count": 0,
      "outputs": [
        {
          "output_type": "stream",
          "text": [
            "5.0\n",
            "0.0\n",
            "-8.0\n",
            "-22.0\n",
            "5\n",
            "0\n",
            "-8\n",
            "-22\n"
          ],
          "name": "stdout"
        }
      ]
    },
    {
      "cell_type": "markdown",
      "metadata": {
        "id": "HWOwfU00VrWS",
        "colab_type": "text"
      },
      "source": [
        "\n",
        "\n",
        "### P2.PY\n",
        "\n",
        "\n"
      ]
    },
    {
      "cell_type": "code",
      "metadata": {
        "id": "_5-k5J4mVrWT",
        "colab_type": "code",
        "outputId": "b09bc3c2-1768-4b53-d0f4-79546f2aa2d4",
        "colab": {
          "base_uri": "https://localhost:8080/",
          "height": 187
        }
      },
      "source": [
        "\"\"\"\n",
        "Typcasting w. Strings\n",
        "\"\"\"\n",
        "\n",
        "# Convert these variables into strings and then back to their original data types. Print out each result as well as its data type. What do you notice about the last one?\n",
        "\n",
        "five = 5\n",
        "zero = 0\n",
        "neg_8 = -8\n",
        "T = True\n",
        "F = False\n",
        "five = str(5)\n",
        "print(five)\n",
        "zero = str(0)\n",
        "print(zero)\n",
        "neg_8 = str(-8)\n",
        "print(neg_8)\n",
        "T = str(True)\n",
        "print(T)\n",
        "F = str(False)\n",
        "print(F)\n",
        "five = int(5)\n",
        "print(five)\n",
        "zero = int(0)\n",
        "print(zero)\n",
        "neg_8 = int(-8)\n",
        "print(neg_8)\n",
        "T = bool(True)\n",
        "print(T)\n",
        "F = bool(False)\n",
        "print(F)"
      ],
      "execution_count": 0,
      "outputs": [
        {
          "output_type": "stream",
          "text": [
            "5\n",
            "0\n",
            "-8\n",
            "True\n",
            "False\n",
            "5\n",
            "0\n",
            "-8\n",
            "True\n",
            "False\n"
          ],
          "name": "stdout"
        }
      ]
    },
    {
      "cell_type": "markdown",
      "metadata": {
        "id": "FO_LansxVrWV",
        "colab_type": "text"
      },
      "source": [
        "\n",
        "\n",
        "### P3.PY\n",
        "\n",
        "\n"
      ]
    },
    {
      "cell_type": "code",
      "metadata": {
        "id": "bSVcghffVrWW",
        "colab_type": "code",
        "outputId": "b4ff1bfc-6222-41e1-afa7-3749df097500",
        "colab": {
          "base_uri": "https://localhost:8080/",
          "height": 170
        }
      },
      "source": [
        "\"\"\"\n",
        "Booleans I - Typecasting w. Numbers\n",
        "\"\"\"\n",
        "\n",
        "# A) Use typecasting to turn these variables into boolean values. Print the result and the datatype of the result. \n",
        "\n",
        "one = 1\n",
        "zero = 0\n",
        "one = bool(1)\n",
        "print(one)\n",
        "zero = bool(0)\n",
        "print(zero)\n",
        "\n",
        "# B) Use typecasting to turn the resultant variables from part A into floats. Print the result and the datatype of the result.\n",
        "one = float(1)\n",
        "print(one)\n",
        "zero = float(0)\n",
        "print(zero)\n",
        "# C) Use typecasting to turn the resultant variables from part B back into booleans. Print the result and the datatype of the result.\n",
        "one = bool(1)\n",
        "print(one)\n",
        "zero = bool(0)\n",
        "print(zero)\n",
        "# C) Use typecasting to turn the resultant variables from part C into integers. Print the result and the datatype of the result.\n",
        "one = int(1)\n",
        "print(one)\n",
        "zero = int(0)\n",
        "print(zero)\n",
        "\n",
        "# E) Use typecasting to turn the variable below into a boolean value. Print the result and the datatype of the result. \n",
        "\n",
        "ten = 10\n",
        "ten = bool(10)\n",
        "print(ten)"
      ],
      "execution_count": 0,
      "outputs": [
        {
          "output_type": "stream",
          "text": [
            "True\n",
            "False\n",
            "1.0\n",
            "0.0\n",
            "True\n",
            "False\n",
            "1\n",
            "0\n",
            "True\n"
          ],
          "name": "stdout"
        }
      ]
    },
    {
      "cell_type": "markdown",
      "metadata": {
        "id": "Q7lEbfSQVrWc",
        "colab_type": "text"
      },
      "source": [
        "\n",
        "\n",
        "### P4.PY\n",
        "\n",
        "\n"
      ]
    },
    {
      "cell_type": "code",
      "metadata": {
        "id": "YFLt2TDXVrWf",
        "colab_type": "code",
        "outputId": "3a786bfd-9ebd-4d62-8a72-543e3219f7a9",
        "colab": {
          "base_uri": "https://localhost:8080/",
          "height": 153
        }
      },
      "source": [
        "\"\"\"\n",
        "Booleans II - Typecasting w. Strings\n",
        "\"\"\"\n",
        "\n",
        "# A) Use typecasting to turn these variables into boolean values. Print the result and the datatype of the result. \n",
        "\n",
        "one = 1\n",
        "zero = 0\n",
        "T = True\n",
        "F = False\n",
        "one = bool(1)\n",
        "print(one)\n",
        "zero = bool(0)\n",
        "print(zero)\n",
        "T = bool(True)\n",
        "print(T)\n",
        "F = bool(False)\n",
        "print(F)\n",
        "# B) Use typecasting to turn the latest values for variables 'one' and 'zero' back into integers. Print the result and the datatype of the result.\n",
        "one = int(1)\n",
        "print(one)\n",
        "zero = int(0)\n",
        "print(zero)\n",
        "\n",
        "\n",
        "# C) Use typecasting to turn the latest values for variables 'T' and 'F' back into boolean values. Print the result and the datatype of the result.\n",
        "T = bool(True)\n",
        "print(T)\n",
        "F = bool(False)\n",
        "print(F)\n",
        "\n",
        "\n",
        "\n",
        "\n"
      ],
      "execution_count": 0,
      "outputs": [
        {
          "output_type": "stream",
          "text": [
            "True\n",
            "False\n",
            "True\n",
            "False\n",
            "1\n",
            "0\n",
            "True\n",
            "False\n"
          ],
          "name": "stdout"
        }
      ]
    },
    {
      "cell_type": "markdown",
      "metadata": {
        "id": "pRORE6K8VrWy",
        "colab_type": "text"
      },
      "source": [
        "## SHOPPING_LIST\n",
        "\n",
        "\n"
      ]
    },
    {
      "cell_type": "markdown",
      "metadata": {
        "id": "sX291wpjWQea",
        "colab_type": "text"
      },
      "source": [
        "### P1.PY"
      ]
    },
    {
      "cell_type": "code",
      "metadata": {
        "id": "kH5HZBmiVrWy",
        "colab_type": "code",
        "outputId": "6e7cdeeb-241c-4b3a-be0b-95156928b0d4",
        "colab": {
          "base_uri": "https://localhost:8080/",
          "height": 102
        }
      },
      "source": [
        "\"\"\"\n",
        "Shopping List Calculator I\n",
        "\"\"\"\n",
        "\n",
        "# Create five variables,\n",
        "# set them to strings that represent 5 common shopping list items\n",
        "\n",
        "\n",
        "item_name_1 = 'Soda'\n",
        "item_name_2 = 'Gushers'\n",
        "item_name_3 = 'Bread'\n",
        "item_name_4 = 'Eggs'\n",
        "item_name_5 = 'Soup'\n",
        "\n",
        "\n",
        "\n",
        "# Create five more variables,\n",
        "# set them to floats that represent the prices of each of the items above\n",
        "\n",
        "item_price_1 = float(1.50)\n",
        "item_price_2 = float(2.25)\n",
        "item_price_3 = float(2.00)\n",
        "item_price_4 = float(3.25)\n",
        "item_price_5 = float(.75)\n",
        "\n",
        "\n",
        "# Create five more variables,\n",
        "# set them to ints that represent the quantity of each of the items above\n",
        "item_quant_1 = int(6)\n",
        "item_quant_2 = int(3)\n",
        "item_quant_3 = int(7)\n",
        "item_quant_4 = int(2)\n",
        "item_quant_5 = int(1)\n",
        "\n",
        "# Print to the console the name and price of each item defined above as follows:\n",
        "# 1 Coco Puffs = $8.95.\n",
        "# where:\n",
        "# 1 would be item_quant_1\n",
        "# Coco Puffs would be item_name_1\n",
        "# 8.95 would be item_name_2\n",
        "\n",
        "print(f'{item_quant_1} {item_name_1} = ${item_quant_1*item_price_1}')\n",
        "print(f'{item_quant_2} {item_name_2} = ${item_quant_2*item_price_2}')\n",
        "print(f'{item_quant_3} {item_name_3} = ${item_quant_3*item_price_3}')\n",
        "print(f'{item_quant_4} {item_name_4} = ${item_quant_4*item_price_4}')\n",
        "print(f'{item_quant_5} {item_name_5} = ${item_quant_5*item_price_5}')"
      ],
      "execution_count": 4,
      "outputs": [
        {
          "output_type": "stream",
          "text": [
            "6 Soda = $9.0\n",
            "3 Gushers = $6.75\n",
            "7 Bread = $14.0\n",
            "2 Eggs = $6.5\n",
            "1 Soup = $0.75\n"
          ],
          "name": "stdout"
        }
      ]
    },
    {
      "cell_type": "code",
      "metadata": {
        "id": "ms5tjtABFcUK",
        "colab_type": "code",
        "colab": {}
      },
      "source": [
        ""
      ],
      "execution_count": 0,
      "outputs": []
    },
    {
      "cell_type": "markdown",
      "metadata": {
        "id": "tr50TO3xVrW1",
        "colab_type": "text"
      },
      "source": [
        "\n",
        "\n",
        "### P2.PY\n",
        "\n",
        "\n"
      ]
    },
    {
      "cell_type": "code",
      "metadata": {
        "id": "_6WnvYbpVrW2",
        "colab_type": "code",
        "colab": {
          "base_uri": "https://localhost:8080/",
          "height": 528
        },
        "outputId": "89a2aa2a-0ca0-433b-bc67-9ce1df48006a"
      },
      "source": [
        "\"\"\"\n",
        "Shopping List Calculator II\n",
        "\"\"\"\n",
        "\n",
        "# Rewrite p1, but this time use the input() command to solicit user input for name, price, quantity. Here's how it works:\n",
        "\n",
        "item_name_1 = input('Name your first item: ') \n",
        "\t# ^ this will ask user to input value of item_name_1\n",
        "\n",
        "# use input() function and ask user to name items\n",
        "item_name_1 = input('Name your first item: ') \n",
        "item_name_2 = input('Name your second item: ') \n",
        "item_name_3 = input('Name your third item: ') \n",
        "item_name_4 = input('Name your fourth item: ') \n",
        "item_name_5 = input('Name your fifth item: ') \n",
        "\n",
        "# use input() function and ask user to name prices\n",
        "item_price_1 = input('Name your first price: ')\n",
        "item_price_2 = input('Name your second price: ')\n",
        "item_price_3 = input('Name your third price: ') \n",
        "item_price_4 = input('Name your fourth price: ')\n",
        "item_price_5 = input('Name your fifth price: ')\n",
        "\n",
        "# use input() function and ask user to name quants\n",
        "item_quant_1 = input('How many first items: ')\n",
        "item_quant_2 = input('How many second items: ')\n",
        "item_quant_3 = input('How many third items: ')\n",
        "item_quant_4 = input('How many fourth items: ')\n",
        "item_quant_5 = input('How many fifth items: ')\n",
        "\n",
        "# Print to the console the name and price of each item defined above as follows:\n",
        "# 1 Coco Puffs = $8.95.\n",
        "# where:\n",
        "# 1 would be item_quant_1\n",
        "# Coco Puffs would be item_name_1\n",
        "# 8.95 would be item_name_2\n",
        "\n",
        "# JUST REMEMBER: now this will be defined by the user!!\n",
        "print(f'{item_quant_1} {item_name_1} = ${item_quant_1*item_price_1}')\n",
        "print(f'{item_quant_2} {item_name_2} = ${item_quant_2*item_price_2}')\n",
        "print(f'{item_quant_3} {item_name_3} = ${item_quant_3*item_price_3}')\n",
        "print(f'{item_quant_4} {item_name_4} = ${item_quant_4*item_price_4}')\n",
        "print(f'{item_quant_5} {item_name_5} = ${item_quant_5*item_price_5}')"
      ],
      "execution_count": 2,
      "outputs": [
        {
          "output_type": "error",
          "ename": "KeyboardInterrupt",
          "evalue": "ignored",
          "traceback": [
            "\u001b[0;31m---------------------------------------------------------------------------\u001b[0m",
            "\u001b[0;31mKeyboardInterrupt\u001b[0m                         Traceback (most recent call last)",
            "\u001b[0;32m/usr/local/lib/python3.6/dist-packages/ipykernel/kernelbase.py\u001b[0m in \u001b[0;36m_input_request\u001b[0;34m(self, prompt, ident, parent, password)\u001b[0m\n\u001b[1;32m    729\u001b[0m             \u001b[0;32mtry\u001b[0m\u001b[0;34m:\u001b[0m\u001b[0;34m\u001b[0m\u001b[0;34m\u001b[0m\u001b[0m\n\u001b[0;32m--> 730\u001b[0;31m                 \u001b[0mident\u001b[0m\u001b[0;34m,\u001b[0m \u001b[0mreply\u001b[0m \u001b[0;34m=\u001b[0m \u001b[0mself\u001b[0m\u001b[0;34m.\u001b[0m\u001b[0msession\u001b[0m\u001b[0;34m.\u001b[0m\u001b[0mrecv\u001b[0m\u001b[0;34m(\u001b[0m\u001b[0mself\u001b[0m\u001b[0;34m.\u001b[0m\u001b[0mstdin_socket\u001b[0m\u001b[0;34m,\u001b[0m \u001b[0;36m0\u001b[0m\u001b[0;34m)\u001b[0m\u001b[0;34m\u001b[0m\u001b[0;34m\u001b[0m\u001b[0m\n\u001b[0m\u001b[1;32m    731\u001b[0m             \u001b[0;32mexcept\u001b[0m \u001b[0mException\u001b[0m\u001b[0;34m:\u001b[0m\u001b[0;34m\u001b[0m\u001b[0;34m\u001b[0m\u001b[0m\n",
            "\u001b[0;32m/usr/local/lib/python3.6/dist-packages/jupyter_client/session.py\u001b[0m in \u001b[0;36mrecv\u001b[0;34m(self, socket, mode, content, copy)\u001b[0m\n\u001b[1;32m    802\u001b[0m         \u001b[0;32mtry\u001b[0m\u001b[0;34m:\u001b[0m\u001b[0;34m\u001b[0m\u001b[0;34m\u001b[0m\u001b[0m\n\u001b[0;32m--> 803\u001b[0;31m             \u001b[0mmsg_list\u001b[0m \u001b[0;34m=\u001b[0m \u001b[0msocket\u001b[0m\u001b[0;34m.\u001b[0m\u001b[0mrecv_multipart\u001b[0m\u001b[0;34m(\u001b[0m\u001b[0mmode\u001b[0m\u001b[0;34m,\u001b[0m \u001b[0mcopy\u001b[0m\u001b[0;34m=\u001b[0m\u001b[0mcopy\u001b[0m\u001b[0;34m)\u001b[0m\u001b[0;34m\u001b[0m\u001b[0;34m\u001b[0m\u001b[0m\n\u001b[0m\u001b[1;32m    804\u001b[0m         \u001b[0;32mexcept\u001b[0m \u001b[0mzmq\u001b[0m\u001b[0;34m.\u001b[0m\u001b[0mZMQError\u001b[0m \u001b[0;32mas\u001b[0m \u001b[0me\u001b[0m\u001b[0;34m:\u001b[0m\u001b[0;34m\u001b[0m\u001b[0;34m\u001b[0m\u001b[0m\n",
            "\u001b[0;32m/usr/local/lib/python3.6/dist-packages/zmq/sugar/socket.py\u001b[0m in \u001b[0;36mrecv_multipart\u001b[0;34m(self, flags, copy, track)\u001b[0m\n\u001b[1;32m    465\u001b[0m         \"\"\"\n\u001b[0;32m--> 466\u001b[0;31m         \u001b[0mparts\u001b[0m \u001b[0;34m=\u001b[0m \u001b[0;34m[\u001b[0m\u001b[0mself\u001b[0m\u001b[0;34m.\u001b[0m\u001b[0mrecv\u001b[0m\u001b[0;34m(\u001b[0m\u001b[0mflags\u001b[0m\u001b[0;34m,\u001b[0m \u001b[0mcopy\u001b[0m\u001b[0;34m=\u001b[0m\u001b[0mcopy\u001b[0m\u001b[0;34m,\u001b[0m \u001b[0mtrack\u001b[0m\u001b[0;34m=\u001b[0m\u001b[0mtrack\u001b[0m\u001b[0;34m)\u001b[0m\u001b[0;34m]\u001b[0m\u001b[0;34m\u001b[0m\u001b[0;34m\u001b[0m\u001b[0m\n\u001b[0m\u001b[1;32m    467\u001b[0m         \u001b[0;31m# have first part already, only loop while more to receive\u001b[0m\u001b[0;34m\u001b[0m\u001b[0;34m\u001b[0m\u001b[0;34m\u001b[0m\u001b[0m\n",
            "\u001b[0;32mzmq/backend/cython/socket.pyx\u001b[0m in \u001b[0;36mzmq.backend.cython.socket.Socket.recv\u001b[0;34m()\u001b[0m\n",
            "\u001b[0;32mzmq/backend/cython/socket.pyx\u001b[0m in \u001b[0;36mzmq.backend.cython.socket.Socket.recv\u001b[0;34m()\u001b[0m\n",
            "\u001b[0;32mzmq/backend/cython/socket.pyx\u001b[0m in \u001b[0;36mzmq.backend.cython.socket._recv_copy\u001b[0;34m()\u001b[0m\n",
            "\u001b[0;32m/usr/local/lib/python3.6/dist-packages/zmq/backend/cython/checkrc.pxd\u001b[0m in \u001b[0;36mzmq.backend.cython.checkrc._check_rc\u001b[0;34m()\u001b[0m\n",
            "\u001b[0;31mKeyboardInterrupt\u001b[0m: ",
            "\nDuring handling of the above exception, another exception occurred:\n",
            "\u001b[0;31mKeyboardInterrupt\u001b[0m                         Traceback (most recent call last)",
            "\u001b[0;32m<ipython-input-2-e1940a52327d>\u001b[0m in \u001b[0;36m<module>\u001b[0;34m()\u001b[0m\n\u001b[1;32m      5\u001b[0m \u001b[0;31m# Rewrite p1, but this time use the input() command to solicit user input for name, price, quantity. Here's how it works:\u001b[0m\u001b[0;34m\u001b[0m\u001b[0;34m\u001b[0m\u001b[0;34m\u001b[0m\u001b[0m\n\u001b[1;32m      6\u001b[0m \u001b[0;34m\u001b[0m\u001b[0m\n\u001b[0;32m----> 7\u001b[0;31m \u001b[0mitem_name_1\u001b[0m \u001b[0;34m=\u001b[0m \u001b[0minput\u001b[0m\u001b[0;34m(\u001b[0m\u001b[0;34m'Name your first item: '\u001b[0m\u001b[0;34m)\u001b[0m\u001b[0;34m\u001b[0m\u001b[0;34m\u001b[0m\u001b[0m\n\u001b[0m\u001b[1;32m      8\u001b[0m         \u001b[0;31m# ^ this will ask user to input value of item_name_1\u001b[0m\u001b[0;34m\u001b[0m\u001b[0;34m\u001b[0m\u001b[0;34m\u001b[0m\u001b[0m\n\u001b[1;32m      9\u001b[0m \u001b[0;34m\u001b[0m\u001b[0m\n",
            "\u001b[0;32m/usr/local/lib/python3.6/dist-packages/ipykernel/kernelbase.py\u001b[0m in \u001b[0;36mraw_input\u001b[0;34m(self, prompt)\u001b[0m\n\u001b[1;32m    703\u001b[0m             \u001b[0mself\u001b[0m\u001b[0;34m.\u001b[0m\u001b[0m_parent_ident\u001b[0m\u001b[0;34m,\u001b[0m\u001b[0;34m\u001b[0m\u001b[0;34m\u001b[0m\u001b[0m\n\u001b[1;32m    704\u001b[0m             \u001b[0mself\u001b[0m\u001b[0;34m.\u001b[0m\u001b[0m_parent_header\u001b[0m\u001b[0;34m,\u001b[0m\u001b[0;34m\u001b[0m\u001b[0;34m\u001b[0m\u001b[0m\n\u001b[0;32m--> 705\u001b[0;31m             \u001b[0mpassword\u001b[0m\u001b[0;34m=\u001b[0m\u001b[0;32mFalse\u001b[0m\u001b[0;34m,\u001b[0m\u001b[0;34m\u001b[0m\u001b[0;34m\u001b[0m\u001b[0m\n\u001b[0m\u001b[1;32m    706\u001b[0m         )\n\u001b[1;32m    707\u001b[0m \u001b[0;34m\u001b[0m\u001b[0m\n",
            "\u001b[0;32m/usr/local/lib/python3.6/dist-packages/ipykernel/kernelbase.py\u001b[0m in \u001b[0;36m_input_request\u001b[0;34m(self, prompt, ident, parent, password)\u001b[0m\n\u001b[1;32m    733\u001b[0m             \u001b[0;32mexcept\u001b[0m \u001b[0mKeyboardInterrupt\u001b[0m\u001b[0;34m:\u001b[0m\u001b[0;34m\u001b[0m\u001b[0;34m\u001b[0m\u001b[0m\n\u001b[1;32m    734\u001b[0m                 \u001b[0;31m# re-raise KeyboardInterrupt, to truncate traceback\u001b[0m\u001b[0;34m\u001b[0m\u001b[0;34m\u001b[0m\u001b[0;34m\u001b[0m\u001b[0m\n\u001b[0;32m--> 735\u001b[0;31m                 \u001b[0;32mraise\u001b[0m \u001b[0mKeyboardInterrupt\u001b[0m\u001b[0;34m\u001b[0m\u001b[0;34m\u001b[0m\u001b[0m\n\u001b[0m\u001b[1;32m    736\u001b[0m             \u001b[0;32melse\u001b[0m\u001b[0;34m:\u001b[0m\u001b[0;34m\u001b[0m\u001b[0;34m\u001b[0m\u001b[0m\n\u001b[1;32m    737\u001b[0m                 \u001b[0;32mbreak\u001b[0m\u001b[0;34m\u001b[0m\u001b[0;34m\u001b[0m\u001b[0m\n",
            "\u001b[0;31mKeyboardInterrupt\u001b[0m: "
          ]
        }
      ]
    },
    {
      "cell_type": "markdown",
      "metadata": {
        "id": "vgZcfv-zVrW4",
        "colab_type": "text"
      },
      "source": [
        "\n"
      ]
    }
  ]
}